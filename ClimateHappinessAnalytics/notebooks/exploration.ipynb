{
 "cells": [
  {
   "cell_type": "markdown",
   "metadata": {
    "collapsed": true,
    "pycharm": {
     "name": "#%% md\n"
    }
   },
   "source": [
    "# Capstone Project \n",
    "## Udacity Data Engineer Nanodegree\n",
    "### Data exploration"
   ]
  },
  {
   "cell_type": "markdown",
   "source": [
    "### Setup"
   ],
   "metadata": {
    "collapsed": false,
    "pycharm": {
     "name": "#%% md\n"
    }
   }
  },
  {
   "cell_type": "code",
   "execution_count": 2,
   "outputs": [],
   "source": [
    "from configparser import ConfigParser\n",
    "from pathlib import Path\n",
    "import pandas as pd\n",
    "import boto3"
   ],
   "metadata": {
    "collapsed": false,
    "pycharm": {
     "name": "#%%\n",
     "is_executing": false
    }
   }
  },
  {
   "cell_type": "code",
   "source": [
    "root_path = Path().home().joinpath(\"Code/udacity-de-nanodegree/capstone\")\n",
    "data_path = root_path.joinpath(\"data\")"
   ],
   "metadata": {
    "collapsed": false,
    "pycharm": {
     "name": "#%%\n",
     "is_executing": false
    }
   },
   "execution_count": 3,
   "outputs": []
  },
  {
   "cell_type": "code",
   "execution_count": 4,
   "outputs": [
    {
     "data": {
      "text/plain": "['/Users/stefan/Code/udacity-de-nanodegree/capstone/app.cfg']"
     },
     "metadata": {},
     "output_type": "execute_result",
     "execution_count": 4
    }
   ],
   "source": [
    "config = ConfigParser()\n",
    "config.read(root_path.joinpath(\"app.cfg\"))"
   ],
   "metadata": {
    "collapsed": false,
    "pycharm": {
     "name": "#%%\n",
     "is_executing": false
    }
   }
  },
  {
   "cell_type": "code",
   "execution_count": 5,
   "outputs": [],
   "source": [
    "s3 = boto3.client(\"s3\", aws_access_key_id=config.get(\"aws\", \"access_key_id\"), \n",
    "                  aws_secret_access_key=config.get(\"aws\", \"secret_access_key\"))"
   ],
   "metadata": {
    "collapsed": false,
    "pycharm": {
     "name": "#%%\n",
     "is_executing": false
    }
   }
  },
  {
   "cell_type": "code",
   "execution_count": 6,
   "outputs": [],
   "source": [
    "# download a sample tweets produced by search_tweets.py\n",
    "s3.download_file(config.get(\"kinesis\", \"delivery_stream\"),\n",
    "                 \"twitter_feed/2019/08/27/16/fff-streams-1-2019-08-27-16-55-55-d65d55a8-4dec-447b-bdf4-07974e3d7ab3\",\n",
    "                 # method only accepts strings\n",
    "                 str(data_path.joinpath(\"tweet_sample.json\")))"
   ],
   "metadata": {
    "collapsed": false,
    "pycharm": {
     "name": "#%% \n",
     "is_executing": false
    }
   }
  },
  {
   "cell_type": "code",
   "execution_count": 9,
   "outputs": [],
   "source": [
    "happiness_df = pd.read_csv(data_path.joinpath(\"world_happiness_2017.csv\"))\n",
    "temp_df = pd.read_csv(data_path.joinpath(\"temp_by_city.csv\"))\n",
    "tweet_df = pd.read_json(data_path.joinpath(\"tweet_sample.json\"), orient=\"records\")"
   ],
   "metadata": {
    "collapsed": false,
    "pycharm": {
     "name": "#%%\n",
     "is_executing": false
    }
   }
  },
  {
   "cell_type": "markdown",
   "source": [
    "### Exploration"
   ],
   "metadata": {
    "collapsed": false,
    "pycharm": {
     "name": "#%% md\n"
    }
   }
  },
  {
   "cell_type": "code",
   "execution_count": 10,
   "outputs": [
    {
     "name": "stdout",
     "text": [
      "<class 'pandas.core.frame.DataFrame'>\nRangeIndex: 155 entries, 0 to 154\nData columns (total 12 columns):\nCountry                          155 non-null object\nHappiness.Rank                   155 non-null int64\nHappiness.Score                  155 non-null float64\nWhisker.high                     155 non-null float64\nWhisker.low                      155 non-null float64\nEconomy..GDP.per.Capita.         155 non-null float64\nFamily                           155 non-null float64\nHealth..Life.Expectancy.         155 non-null float64\nFreedom                          155 non-null float64\nGenerosity                       155 non-null float64\nTrust..Government.Corruption.    155 non-null float64\nDystopia.Residual                155 non-null float64\ndtypes: float64(10), int64(1), object(1)\nmemory usage: 14.7+ KB\n"
     ],
     "output_type": "stream"
    }
   ],
   "source": [
    "happiness_df.info()"
   ],
   "metadata": {
    "collapsed": false,
    "pycharm": {
     "name": "#%%\n",
     "is_executing": false
    }
   }
  },
  {
   "cell_type": "code",
   "execution_count": 11,
   "outputs": [
    {
     "name": "stdout",
     "text": [
      "<class 'pandas.core.frame.DataFrame'>\nRangeIndex: 8599212 entries, 0 to 8599211\nData columns (total 7 columns):\ndt                               object\nAverageTemperature               float64\nAverageTemperatureUncertainty    float64\nCity                             object\nCountry                          object\nLatitude                         object\nLongitude                        object\ndtypes: float64(2), object(5)\nmemory usage: 459.2+ MB\n"
     ],
     "output_type": "stream"
    }
   ],
   "source": [
    "temp_df.info()"
   ],
   "metadata": {
    "collapsed": false,
    "pycharm": {
     "name": "#%%\n",
     "is_executing": false
    }
   }
  },
  {
   "cell_type": "code",
   "execution_count": 12,
   "outputs": [
    {
     "name": "stdout",
     "text": [
      "<class 'pandas.core.frame.DataFrame'>\nRangeIndex: 1211 entries, 0 to 1210\nData columns (total 16 columns):\nuser_id            1211 non-null int64\nname               1211 non-null object\nnickname           1211 non-null object\ndescription        1211 non-null object\nuser_location      1211 non-null object\nfollowers_count    1211 non-null int64\ntweets_count       1211 non-null int64\nuser_date          1211 non-null object\nverified           1211 non-null bool\ntweet_id           1211 non-null int64\ntext               1211 non-null object\nfavs               1211 non-null int64\nretweets           1211 non-null int64\ntweet_date         1211 non-null object\ntweet_location     35 non-null object\nsource             1211 non-null object\ndtypes: bool(1), int64(6), object(9)\nmemory usage: 143.2+ KB\n"
     ],
     "output_type": "stream"
    }
   ],
   "source": [
    "tweet_df.info()"
   ],
   "metadata": {
    "collapsed": false,
    "pycharm": {
     "name": "#%%\n",
     "is_executing": false
    }
   }
  },
  {
   "cell_type": "markdown",
   "source": [
    "#### Missing values"
   ],
   "metadata": {
    "collapsed": false,
    "pycharm": {
     "name": "#%% md\n"
    }
   }
  },
  {
   "cell_type": "code",
   "execution_count": 13,
   "outputs": [
    {
     "data": {
      "text/plain": "Country                          False\nHappiness.Rank                   False\nHappiness.Score                  False\nWhisker.high                     False\nWhisker.low                      False\nEconomy..GDP.per.Capita.         False\nFamily                           False\nHealth..Life.Expectancy.         False\nFreedom                          False\nGenerosity                       False\nTrust..Government.Corruption.    False\nDystopia.Residual                False\ndtype: bool"
     },
     "metadata": {},
     "output_type": "execute_result",
     "execution_count": 13
    }
   ],
   "source": [
    "happiness_df.isnull().any()"
   ],
   "metadata": {
    "collapsed": false,
    "pycharm": {
     "name": "#%%\n",
     "is_executing": false
    }
   }
  },
  {
   "cell_type": "code",
   "execution_count": 14,
   "outputs": [
    {
     "data": {
      "text/plain": "dt                               False\nAverageTemperature                True\nAverageTemperatureUncertainty     True\nCity                             False\nCountry                          False\nLatitude                         False\nLongitude                        False\ndtype: bool"
     },
     "metadata": {},
     "output_type": "execute_result",
     "execution_count": 14
    }
   ],
   "source": [
    "temp_df.isnull().any()"
   ],
   "metadata": {
    "collapsed": false,
    "pycharm": {
     "name": "#%%\n",
     "is_executing": false
    }
   }
  },
  {
   "cell_type": "code",
   "execution_count": 15,
   "outputs": [
    {
     "data": {
      "text/plain": "user_id            False\nname               False\nnickname           False\ndescription        False\nuser_location      False\nfollowers_count    False\ntweets_count       False\nuser_date          False\nverified           False\ntweet_id           False\ntext               False\nfavs               False\nretweets           False\ntweet_date         False\ntweet_location      True\nsource             False\ndtype: bool"
     },
     "metadata": {},
     "output_type": "execute_result",
     "execution_count": 15
    }
   ],
   "source": [
    "tweet_df.isnull().any()"
   ],
   "metadata": {
    "collapsed": false,
    "pycharm": {
     "name": "#%%\n",
     "is_executing": false
    }
   }
  },
  {
   "cell_type": "code",
   "execution_count": 16,
   "outputs": [
    {
     "name": "stdout",
     "text": [
      "Ratio of missing values for average temperature 0.04\nRatio of missing values for temperature uncertainty 0.04\n"
     ],
     "output_type": "stream"
    }
   ],
   "source": [
    "missing_avg_temp = temp_df[\"AverageTemperature\"].isnull().sum() / temp_df.shape[0]\n",
    "missing_temp_uncertainity = temp_df[\"AverageTemperatureUncertainty\"].isnull().sum() / temp_df.shape[0]\n",
    "print(f\"Ratio of missing values for average temperature {missing_avg_temp:.2f}\")\n",
    "print(f\"Ratio of missing values for temperature uncertainty {missing_temp_uncertainity:.2f}\")"
   ],
   "metadata": {
    "collapsed": false,
    "pycharm": {
     "name": "#%%\n",
     "is_executing": false
    }
   }
  },
  {
   "cell_type": "code",
   "execution_count": 17,
   "outputs": [
    {
     "name": "stdout",
     "text": [
      "(8599212, 7)\n",
      "(8235082, 7)\n"
     ],
     "output_type": "stream"
    }
   ],
   "source": [
    "print(temp_df.shape)\n",
    "temp_df.dropna(inplace=True)\n",
    "print(temp_df.shape)"
   ],
   "metadata": {
    "collapsed": false,
    "pycharm": {
     "name": "#%%\n",
     "is_executing": false
    }
   }
  },
  {
   "cell_type": "code",
   "execution_count": 18,
   "outputs": [
    {
     "name": "stdout",
     "text": [
      "Ratio of missing values for tweet location: 0.97\n"
     ],
     "output_type": "stream"
    }
   ],
   "source": [
    "missing_tweet_location = tweet_df[\"tweet_location\"].isnull().sum() / tweet_df.shape[0]\n",
    "print(f\"Ratio of missing values for tweet location: {missing_tweet_location:.2f}\")"
   ],
   "metadata": {
    "collapsed": false,
    "pycharm": {
     "name": "#%%\n",
     "is_executing": false
    }
   }
  },
  {
   "cell_type": "markdown",
   "source": [
    "#### Duplicates"
   ],
   "metadata": {
    "collapsed": false,
    "pycharm": {
     "name": "#%% md\n"
    }
   }
  },
  {
   "cell_type": "code",
   "execution_count": 19,
   "outputs": [
    {
     "data": {
      "text/plain": "False"
     },
     "metadata": {},
     "output_type": "execute_result",
     "execution_count": 19
    }
   ],
   "source": [
    "happiness_df.duplicated().any()"
   ],
   "metadata": {
    "collapsed": false,
    "pycharm": {
     "name": "#%%\n",
     "is_executing": false
    }
   }
  },
  {
   "cell_type": "code",
   "execution_count": 20,
   "outputs": [
    {
     "data": {
      "text/plain": "False"
     },
     "metadata": {},
     "output_type": "execute_result",
     "execution_count": 20
    }
   ],
   "source": [
    "temp_df.duplicated().any()"
   ],
   "metadata": {
    "collapsed": false,
    "pycharm": {
     "name": "#%%\n",
     "is_executing": false
    }
   }
  },
  {
   "cell_type": "code",
   "execution_count": 21,
   "outputs": [
    {
     "data": {
      "text/plain": "False"
     },
     "metadata": {},
     "output_type": "execute_result",
     "execution_count": 21
    }
   ],
   "source": [
    "tweet_df.duplicated().any()"
   ],
   "metadata": {
    "collapsed": false,
    "pycharm": {
     "name": "#%%\n",
     "is_executing": false
    }
   }
  },
  {
   "cell_type": "markdown",
   "source": [
    "#### Sneak peak into data"
   ],
   "metadata": {
    "collapsed": false,
    "pycharm": {
     "name": "#%% md\n"
    }
   }
  },
  {
   "cell_type": "code",
   "execution_count": 22,
   "outputs": [
    {
     "data": {
      "text/plain": "       Country  Happiness.Rank  Happiness.Score  Whisker.high  Whisker.low  \\\n0       Norway               1            7.537      7.594445     7.479556   \n1      Denmark               2            7.522      7.581728     7.462272   \n2      Iceland               3            7.504      7.622030     7.385970   \n3  Switzerland               4            7.494      7.561772     7.426227   \n4      Finland               5            7.469      7.527542     7.410458   \n\n   Economy..GDP.per.Capita.    Family  Health..Life.Expectancy.   Freedom  \\\n0                  1.616463  1.533524                  0.796667  0.635423   \n1                  1.482383  1.551122                  0.792566  0.626007   \n2                  1.480633  1.610574                  0.833552  0.627163   \n3                  1.564980  1.516912                  0.858131  0.620071   \n4                  1.443572  1.540247                  0.809158  0.617951   \n\n   Generosity  Trust..Government.Corruption.  Dystopia.Residual  \n0    0.362012                       0.315964           2.277027  \n1    0.355280                       0.400770           2.313707  \n2    0.475540                       0.153527           2.322715  \n3    0.290549                       0.367007           2.276716  \n4    0.245483                       0.382612           2.430182  ",
      "text/html": "<div>\n<style scoped>\n    .dataframe tbody tr th:only-of-type {\n        vertical-align: middle;\n    }\n\n    .dataframe tbody tr th {\n        vertical-align: top;\n    }\n\n    .dataframe thead th {\n        text-align: right;\n    }\n</style>\n<table border=\"1\" class=\"dataframe\">\n  <thead>\n    <tr style=\"text-align: right;\">\n      <th></th>\n      <th>Country</th>\n      <th>Happiness.Rank</th>\n      <th>Happiness.Score</th>\n      <th>Whisker.high</th>\n      <th>Whisker.low</th>\n      <th>Economy..GDP.per.Capita.</th>\n      <th>Family</th>\n      <th>Health..Life.Expectancy.</th>\n      <th>Freedom</th>\n      <th>Generosity</th>\n      <th>Trust..Government.Corruption.</th>\n      <th>Dystopia.Residual</th>\n    </tr>\n  </thead>\n  <tbody>\n    <tr>\n      <th>0</th>\n      <td>Norway</td>\n      <td>1</td>\n      <td>7.537</td>\n      <td>7.594445</td>\n      <td>7.479556</td>\n      <td>1.616463</td>\n      <td>1.533524</td>\n      <td>0.796667</td>\n      <td>0.635423</td>\n      <td>0.362012</td>\n      <td>0.315964</td>\n      <td>2.277027</td>\n    </tr>\n    <tr>\n      <th>1</th>\n      <td>Denmark</td>\n      <td>2</td>\n      <td>7.522</td>\n      <td>7.581728</td>\n      <td>7.462272</td>\n      <td>1.482383</td>\n      <td>1.551122</td>\n      <td>0.792566</td>\n      <td>0.626007</td>\n      <td>0.355280</td>\n      <td>0.400770</td>\n      <td>2.313707</td>\n    </tr>\n    <tr>\n      <th>2</th>\n      <td>Iceland</td>\n      <td>3</td>\n      <td>7.504</td>\n      <td>7.622030</td>\n      <td>7.385970</td>\n      <td>1.480633</td>\n      <td>1.610574</td>\n      <td>0.833552</td>\n      <td>0.627163</td>\n      <td>0.475540</td>\n      <td>0.153527</td>\n      <td>2.322715</td>\n    </tr>\n    <tr>\n      <th>3</th>\n      <td>Switzerland</td>\n      <td>4</td>\n      <td>7.494</td>\n      <td>7.561772</td>\n      <td>7.426227</td>\n      <td>1.564980</td>\n      <td>1.516912</td>\n      <td>0.858131</td>\n      <td>0.620071</td>\n      <td>0.290549</td>\n      <td>0.367007</td>\n      <td>2.276716</td>\n    </tr>\n    <tr>\n      <th>4</th>\n      <td>Finland</td>\n      <td>5</td>\n      <td>7.469</td>\n      <td>7.527542</td>\n      <td>7.410458</td>\n      <td>1.443572</td>\n      <td>1.540247</td>\n      <td>0.809158</td>\n      <td>0.617951</td>\n      <td>0.245483</td>\n      <td>0.382612</td>\n      <td>2.430182</td>\n    </tr>\n  </tbody>\n</table>\n</div>"
     },
     "metadata": {},
     "output_type": "execute_result",
     "execution_count": 22
    }
   ],
   "source": [
    "happiness_df.head()"
   ],
   "metadata": {
    "collapsed": false,
    "pycharm": {
     "name": "#%%\n",
     "is_executing": false
    }
   }
  },
  {
   "cell_type": "code",
   "execution_count": 23,
   "outputs": [
    {
     "data": {
      "text/plain": "                      Country  Happiness.Rank  Happiness.Score  Whisker.high  \\\n150                    Rwanda             151            3.471      3.543030   \n151                     Syria             152            3.462      3.663669   \n152                  Tanzania             153            3.349      3.461430   \n153                   Burundi             154            2.905      3.074690   \n154  Central African Republic             155            2.693      2.864884   \n\n     Whisker.low  Economy..GDP.per.Capita.    Family  \\\n150     3.398970                  0.368746  0.945707   \n151     3.260331                  0.777153  0.396103   \n152     3.236570                  0.511136  1.041990   \n153     2.735310                  0.091623  0.629794   \n154     2.521116                  0.000000  0.000000   \n\n     Health..Life.Expectancy.   Freedom  Generosity  \\\n150                  0.326425  0.581844    0.252756   \n151                  0.500533  0.081539    0.493664   \n152                  0.364509  0.390018    0.354256   \n153                  0.151611  0.059901    0.204435   \n154                  0.018773  0.270842    0.280876   \n\n     Trust..Government.Corruption.  Dystopia.Residual  \n150                       0.455220           0.540061  \n151                       0.151347           1.061574  \n152                       0.066035           0.621130  \n153                       0.084148           1.683024  \n154                       0.056565           2.066005  ",
      "text/html": "<div>\n<style scoped>\n    .dataframe tbody tr th:only-of-type {\n        vertical-align: middle;\n    }\n\n    .dataframe tbody tr th {\n        vertical-align: top;\n    }\n\n    .dataframe thead th {\n        text-align: right;\n    }\n</style>\n<table border=\"1\" class=\"dataframe\">\n  <thead>\n    <tr style=\"text-align: right;\">\n      <th></th>\n      <th>Country</th>\n      <th>Happiness.Rank</th>\n      <th>Happiness.Score</th>\n      <th>Whisker.high</th>\n      <th>Whisker.low</th>\n      <th>Economy..GDP.per.Capita.</th>\n      <th>Family</th>\n      <th>Health..Life.Expectancy.</th>\n      <th>Freedom</th>\n      <th>Generosity</th>\n      <th>Trust..Government.Corruption.</th>\n      <th>Dystopia.Residual</th>\n    </tr>\n  </thead>\n  <tbody>\n    <tr>\n      <th>150</th>\n      <td>Rwanda</td>\n      <td>151</td>\n      <td>3.471</td>\n      <td>3.543030</td>\n      <td>3.398970</td>\n      <td>0.368746</td>\n      <td>0.945707</td>\n      <td>0.326425</td>\n      <td>0.581844</td>\n      <td>0.252756</td>\n      <td>0.455220</td>\n      <td>0.540061</td>\n    </tr>\n    <tr>\n      <th>151</th>\n      <td>Syria</td>\n      <td>152</td>\n      <td>3.462</td>\n      <td>3.663669</td>\n      <td>3.260331</td>\n      <td>0.777153</td>\n      <td>0.396103</td>\n      <td>0.500533</td>\n      <td>0.081539</td>\n      <td>0.493664</td>\n      <td>0.151347</td>\n      <td>1.061574</td>\n    </tr>\n    <tr>\n      <th>152</th>\n      <td>Tanzania</td>\n      <td>153</td>\n      <td>3.349</td>\n      <td>3.461430</td>\n      <td>3.236570</td>\n      <td>0.511136</td>\n      <td>1.041990</td>\n      <td>0.364509</td>\n      <td>0.390018</td>\n      <td>0.354256</td>\n      <td>0.066035</td>\n      <td>0.621130</td>\n    </tr>\n    <tr>\n      <th>153</th>\n      <td>Burundi</td>\n      <td>154</td>\n      <td>2.905</td>\n      <td>3.074690</td>\n      <td>2.735310</td>\n      <td>0.091623</td>\n      <td>0.629794</td>\n      <td>0.151611</td>\n      <td>0.059901</td>\n      <td>0.204435</td>\n      <td>0.084148</td>\n      <td>1.683024</td>\n    </tr>\n    <tr>\n      <th>154</th>\n      <td>Central African Republic</td>\n      <td>155</td>\n      <td>2.693</td>\n      <td>2.864884</td>\n      <td>2.521116</td>\n      <td>0.000000</td>\n      <td>0.000000</td>\n      <td>0.018773</td>\n      <td>0.270842</td>\n      <td>0.280876</td>\n      <td>0.056565</td>\n      <td>2.066005</td>\n    </tr>\n  </tbody>\n</table>\n</div>"
     },
     "metadata": {},
     "output_type": "execute_result",
     "execution_count": 23
    }
   ],
   "source": [
    "happiness_df.tail()"
   ],
   "metadata": {
    "collapsed": false,
    "pycharm": {
     "name": "#%%\n",
     "is_executing": false
    }
   }
  },
  {
   "cell_type": "code",
   "execution_count": 24,
   "outputs": [
    {
     "data": {
      "text/plain": "           dt  AverageTemperature  AverageTemperatureUncertainty   City  \\\n0  1743-11-01               6.068                          1.737  Århus   \n5  1744-04-01               5.788                          3.624  Århus   \n6  1744-05-01              10.644                          1.283  Århus   \n7  1744-06-01              14.051                          1.347  Århus   \n8  1744-07-01              16.082                          1.396  Århus   \n\n   Country Latitude Longitude  \n0  Denmark   57.05N    10.33E  \n5  Denmark   57.05N    10.33E  \n6  Denmark   57.05N    10.33E  \n7  Denmark   57.05N    10.33E  \n8  Denmark   57.05N    10.33E  ",
      "text/html": "<div>\n<style scoped>\n    .dataframe tbody tr th:only-of-type {\n        vertical-align: middle;\n    }\n\n    .dataframe tbody tr th {\n        vertical-align: top;\n    }\n\n    .dataframe thead th {\n        text-align: right;\n    }\n</style>\n<table border=\"1\" class=\"dataframe\">\n  <thead>\n    <tr style=\"text-align: right;\">\n      <th></th>\n      <th>dt</th>\n      <th>AverageTemperature</th>\n      <th>AverageTemperatureUncertainty</th>\n      <th>City</th>\n      <th>Country</th>\n      <th>Latitude</th>\n      <th>Longitude</th>\n    </tr>\n  </thead>\n  <tbody>\n    <tr>\n      <th>0</th>\n      <td>1743-11-01</td>\n      <td>6.068</td>\n      <td>1.737</td>\n      <td>Århus</td>\n      <td>Denmark</td>\n      <td>57.05N</td>\n      <td>10.33E</td>\n    </tr>\n    <tr>\n      <th>5</th>\n      <td>1744-04-01</td>\n      <td>5.788</td>\n      <td>3.624</td>\n      <td>Århus</td>\n      <td>Denmark</td>\n      <td>57.05N</td>\n      <td>10.33E</td>\n    </tr>\n    <tr>\n      <th>6</th>\n      <td>1744-05-01</td>\n      <td>10.644</td>\n      <td>1.283</td>\n      <td>Århus</td>\n      <td>Denmark</td>\n      <td>57.05N</td>\n      <td>10.33E</td>\n    </tr>\n    <tr>\n      <th>7</th>\n      <td>1744-06-01</td>\n      <td>14.051</td>\n      <td>1.347</td>\n      <td>Århus</td>\n      <td>Denmark</td>\n      <td>57.05N</td>\n      <td>10.33E</td>\n    </tr>\n    <tr>\n      <th>8</th>\n      <td>1744-07-01</td>\n      <td>16.082</td>\n      <td>1.396</td>\n      <td>Århus</td>\n      <td>Denmark</td>\n      <td>57.05N</td>\n      <td>10.33E</td>\n    </tr>\n  </tbody>\n</table>\n</div>"
     },
     "metadata": {},
     "output_type": "execute_result",
     "execution_count": 24
    }
   ],
   "source": [
    "temp_df.head()"
   ],
   "metadata": {
    "collapsed": false,
    "pycharm": {
     "name": "#%%\n",
     "is_executing": false
    }
   }
  },
  {
   "cell_type": "code",
   "execution_count": 25,
   "outputs": [],
   "source": [
    "temp_df[\"dt\"] = pd.to_datetime(temp_df[\"dt\"], infer_datetime_format=True)"
   ],
   "metadata": {
    "collapsed": false,
    "pycharm": {
     "name": "#%%\n",
     "is_executing": false
    }
   }
  },
  {
   "cell_type": "markdown",
   "source": [
    "Summary stats for average temperatue by country and city recorded since 2000"
   ],
   "metadata": {
    "collapsed": false,
    "pycharm": {
     "name": "#%% md\n"
    }
   }
  },
  {
   "cell_type": "code",
   "execution_count": 26,
   "outputs": [
    {
     "data": {
      "text/plain": "                       count       mean       std     min       25%      50%  \\\nCountry     City                                                               \nAfghanistan Baglan     164.0  12.075945  9.483642  -7.700   4.19800  12.4715   \n            Gardez     164.0  18.377762  8.156264   3.151  10.95200  19.4445   \n            Gazni      164.0  11.557043  9.338659  -6.743   2.94700  12.1895   \n            Herat      164.0  15.761195  9.353346  -6.633   7.76575  16.0660   \n            Jalalabad  164.0  15.525756  8.640416  -0.906   8.66475  15.8495   \n...                      ...        ...       ...     ...       ...      ...   \nZimbabwe    Gweru      164.0  20.220012  3.116030  13.674  17.72325  21.1105   \n            Harare     164.0  20.721988  2.780533  14.623  18.57375  21.6565   \n            Kadoma     164.0  20.721988  2.780533  14.623  18.57375  21.6565   \n            Kwekwe     164.0  20.721988  2.780533  14.623  18.57375  21.6565   \n            Mutare     164.0  19.112000  2.837385  12.838  16.69350  20.2970   \n\n                            75%     max  \nCountry     City                         \nAfghanistan Baglan     21.21600  25.261  \n            Gardez     26.61225  29.246  \n            Gazni      20.85750  24.600  \n            Herat      24.70325  29.347  \n            Jalalabad  24.30225  27.583  \n...                         ...     ...  \nZimbabwe    Gweru      22.71250  25.508  \n            Harare     22.78100  25.224  \n            Kadoma     22.78100  25.224  \n            Kwekwe     22.78100  25.224  \n            Mutare     21.40100  22.927  \n\n[3490 rows x 8 columns]",
      "text/html": "<div>\n<style scoped>\n    .dataframe tbody tr th:only-of-type {\n        vertical-align: middle;\n    }\n\n    .dataframe tbody tr th {\n        vertical-align: top;\n    }\n\n    .dataframe thead th {\n        text-align: right;\n    }\n</style>\n<table border=\"1\" class=\"dataframe\">\n  <thead>\n    <tr style=\"text-align: right;\">\n      <th></th>\n      <th></th>\n      <th>count</th>\n      <th>mean</th>\n      <th>std</th>\n      <th>min</th>\n      <th>25%</th>\n      <th>50%</th>\n      <th>75%</th>\n      <th>max</th>\n    </tr>\n    <tr>\n      <th>Country</th>\n      <th>City</th>\n      <th></th>\n      <th></th>\n      <th></th>\n      <th></th>\n      <th></th>\n      <th></th>\n      <th></th>\n      <th></th>\n    </tr>\n  </thead>\n  <tbody>\n    <tr>\n      <th rowspan=\"8\" valign=\"top\">Afghanistan</th>\n      <th>Baglan</th>\n      <td>164.0</td>\n      <td>12.075945</td>\n      <td>9.483642</td>\n      <td>-7.700</td>\n      <td>4.19800</td>\n      <td>12.4715</td>\n      <td>21.21600</td>\n      <td>25.261</td>\n    </tr>\n    <tr>\n      <th>Gardez</th>\n      <td>164.0</td>\n      <td>18.377762</td>\n      <td>8.156264</td>\n      <td>3.151</td>\n      <td>10.95200</td>\n      <td>19.4445</td>\n      <td>26.61225</td>\n      <td>29.246</td>\n    </tr>\n    <tr>\n      <th>Gazni</th>\n      <td>164.0</td>\n      <td>11.557043</td>\n      <td>9.338659</td>\n      <td>-6.743</td>\n      <td>2.94700</td>\n      <td>12.1895</td>\n      <td>20.85750</td>\n      <td>24.600</td>\n    </tr>\n    <tr>\n      <th>Herat</th>\n      <td>164.0</td>\n      <td>15.761195</td>\n      <td>9.353346</td>\n      <td>-6.633</td>\n      <td>7.76575</td>\n      <td>16.0660</td>\n      <td>24.70325</td>\n      <td>29.347</td>\n    </tr>\n    <tr>\n      <th>Jalalabad</th>\n      <td>164.0</td>\n      <td>15.525756</td>\n      <td>8.640416</td>\n      <td>-0.906</td>\n      <td>8.66475</td>\n      <td>15.8495</td>\n      <td>24.30225</td>\n      <td>27.583</td>\n    </tr>\n    <tr>\n      <th>Kabul</th>\n      <td>164.0</td>\n      <td>15.525756</td>\n      <td>8.640416</td>\n      <td>-0.906</td>\n      <td>8.66475</td>\n      <td>15.8495</td>\n      <td>24.30225</td>\n      <td>27.583</td>\n    </tr>\n    <tr>\n      <th>Qandahar</th>\n      <td>164.0</td>\n      <td>20.086884</td>\n      <td>9.180086</td>\n      <td>1.889</td>\n      <td>11.66975</td>\n      <td>20.6000</td>\n      <td>29.78775</td>\n      <td>32.912</td>\n    </tr>\n    <tr>\n      <th>Qunduz</th>\n      <td>164.0</td>\n      <td>12.075945</td>\n      <td>9.483642</td>\n      <td>-7.700</td>\n      <td>4.19800</td>\n      <td>12.4715</td>\n      <td>21.21600</td>\n      <td>25.261</td>\n    </tr>\n    <tr>\n      <th rowspan=\"3\" valign=\"top\">Albania</th>\n      <th>Durrës</th>\n      <td>164.0</td>\n      <td>16.504183</td>\n      <td>6.183037</td>\n      <td>5.789</td>\n      <td>10.85575</td>\n      <td>15.7965</td>\n      <td>21.93900</td>\n      <td>27.009</td>\n    </tr>\n    <tr>\n      <th>Elbasan</th>\n      <td>164.0</td>\n      <td>16.504183</td>\n      <td>6.183037</td>\n      <td>5.789</td>\n      <td>10.85575</td>\n      <td>15.7965</td>\n      <td>21.93900</td>\n      <td>27.009</td>\n    </tr>\n    <tr>\n      <th>Tirana</th>\n      <td>164.0</td>\n      <td>16.504183</td>\n      <td>6.183037</td>\n      <td>5.789</td>\n      <td>10.85575</td>\n      <td>15.7965</td>\n      <td>21.93900</td>\n      <td>27.009</td>\n    </tr>\n    <tr>\n      <th rowspan=\"5\" valign=\"top\">Algeria</th>\n      <th>Algiers</th>\n      <td>164.0</td>\n      <td>17.742104</td>\n      <td>7.465494</td>\n      <td>5.617</td>\n      <td>11.07675</td>\n      <td>16.7810</td>\n      <td>24.08100</td>\n      <td>30.898</td>\n    </tr>\n    <tr>\n      <th>Constantine</th>\n      <td>164.0</td>\n      <td>16.240378</td>\n      <td>7.229809</td>\n      <td>4.365</td>\n      <td>9.78800</td>\n      <td>15.6000</td>\n      <td>22.32925</td>\n      <td>29.277</td>\n    </tr>\n    <tr>\n      <th>Médéa</th>\n      <td>164.0</td>\n      <td>18.175311</td>\n      <td>7.335613</td>\n      <td>6.277</td>\n      <td>11.57900</td>\n      <td>17.2555</td>\n      <td>24.53175</td>\n      <td>30.901</td>\n    </tr>\n    <tr>\n      <th>Wahran</th>\n      <td>164.0</td>\n      <td>18.706634</td>\n      <td>5.216563</td>\n      <td>9.380</td>\n      <td>14.01975</td>\n      <td>18.0270</td>\n      <td>23.70225</td>\n      <td>28.136</td>\n    </tr>\n    <tr>\n      <th>Warqla</th>\n      <td>164.0</td>\n      <td>24.396780</td>\n      <td>8.892088</td>\n      <td>9.555</td>\n      <td>16.27600</td>\n      <td>24.2745</td>\n      <td>32.94700</td>\n      <td>38.182</td>\n    </tr>\n    <tr>\n      <th rowspan=\"6\" valign=\"top\">Angola</th>\n      <th>Benguela</th>\n      <td>164.0</td>\n      <td>23.930390</td>\n      <td>2.275862</td>\n      <td>19.806</td>\n      <td>21.92050</td>\n      <td>24.2100</td>\n      <td>25.76825</td>\n      <td>28.085</td>\n    </tr>\n    <tr>\n      <th>Huambo</th>\n      <td>164.0</td>\n      <td>20.499402</td>\n      <td>1.741971</td>\n      <td>16.300</td>\n      <td>19.57650</td>\n      <td>20.5425</td>\n      <td>21.80175</td>\n      <td>23.683</td>\n    </tr>\n    <tr>\n      <th>Kuito</th>\n      <td>164.0</td>\n      <td>19.923762</td>\n      <td>1.422603</td>\n      <td>16.412</td>\n      <td>19.14750</td>\n      <td>20.0485</td>\n      <td>20.92400</td>\n      <td>22.878</td>\n    </tr>\n    <tr>\n      <th>Lobito</th>\n      <td>164.0</td>\n      <td>23.930390</td>\n      <td>2.275862</td>\n      <td>19.806</td>\n      <td>21.92050</td>\n      <td>24.2100</td>\n      <td>25.76825</td>\n      <td>28.085</td>\n    </tr>\n    <tr>\n      <th>Luanda</th>\n      <td>164.0</td>\n      <td>24.387659</td>\n      <td>1.872191</td>\n      <td>20.302</td>\n      <td>23.13350</td>\n      <td>24.9985</td>\n      <td>25.81475</td>\n      <td>27.018</td>\n    </tr>\n    <tr>\n      <th>Lubango</th>\n      <td>164.0</td>\n      <td>22.137616</td>\n      <td>1.892934</td>\n      <td>17.546</td>\n      <td>21.08875</td>\n      <td>22.2460</td>\n      <td>23.61550</td>\n      <td>25.500</td>\n    </tr>\n    <tr>\n      <th rowspan=\"8\" valign=\"top\">Argentina</th>\n      <th>Bahia Blanca</th>\n      <td>164.0</td>\n      <td>15.817720</td>\n      <td>5.271729</td>\n      <td>6.669</td>\n      <td>10.76400</td>\n      <td>15.7170</td>\n      <td>21.11200</td>\n      <td>25.154</td>\n    </tr>\n    <tr>\n      <th>Catamarca</th>\n      <td>164.0</td>\n      <td>19.120348</td>\n      <td>5.812625</td>\n      <td>8.480</td>\n      <td>13.88250</td>\n      <td>19.9165</td>\n      <td>24.47425</td>\n      <td>27.404</td>\n    </tr>\n    <tr>\n      <th>Comodoro Rivadavia</th>\n      <td>164.0</td>\n      <td>11.399201</td>\n      <td>5.288497</td>\n      <td>0.891</td>\n      <td>6.48975</td>\n      <td>11.4810</td>\n      <td>16.38200</td>\n      <td>20.215</td>\n    </tr>\n    <tr>\n      <th>Concordia</th>\n      <td>164.0</td>\n      <td>19.400518</td>\n      <td>4.844626</td>\n      <td>9.763</td>\n      <td>15.48150</td>\n      <td>19.5260</td>\n      <td>24.10525</td>\n      <td>27.255</td>\n    </tr>\n    <tr>\n      <th>Cordoba</th>\n      <td>164.0</td>\n      <td>17.548945</td>\n      <td>4.971281</td>\n      <td>7.985</td>\n      <td>12.90600</td>\n      <td>18.0075</td>\n      <td>22.25400</td>\n      <td>25.449</td>\n    </tr>\n    <tr>\n      <th>Corrientes</th>\n      <td>164.0</td>\n      <td>21.419530</td>\n      <td>4.451440</td>\n      <td>11.954</td>\n      <td>17.64500</td>\n      <td>21.6950</td>\n      <td>25.62575</td>\n      <td>28.488</td>\n    </tr>\n    <tr>\n      <th>Formosa</th>\n      <td>164.0</td>\n      <td>22.279915</td>\n      <td>4.050726</td>\n      <td>12.868</td>\n      <td>18.66700</td>\n      <td>22.9245</td>\n      <td>26.00800</td>\n      <td>28.337</td>\n    </tr>\n    <tr>\n      <th>Jujuy</th>\n      <td>164.0</td>\n      <td>13.972951</td>\n      <td>4.186242</td>\n      <td>5.655</td>\n      <td>10.11725</td>\n      <td>14.7935</td>\n      <td>17.89825</td>\n      <td>20.355</td>\n    </tr>\n    <tr>\n      <th>...</th>\n      <th>...</th>\n      <td>...</td>\n      <td>...</td>\n      <td>...</td>\n      <td>...</td>\n      <td>...</td>\n      <td>...</td>\n      <td>...</td>\n      <td>...</td>\n    </tr>\n    <tr>\n      <th rowspan=\"13\" valign=\"top\">Vietnam</th>\n      <th>My Tho</th>\n      <td>164.0</td>\n      <td>28.173189</td>\n      <td>0.991095</td>\n      <td>25.334</td>\n      <td>27.57350</td>\n      <td>28.0470</td>\n      <td>28.81575</td>\n      <td>31.036</td>\n    </tr>\n    <tr>\n      <th>Nam Dinh</th>\n      <td>164.0</td>\n      <td>23.815378</td>\n      <td>4.446519</td>\n      <td>13.406</td>\n      <td>20.16000</td>\n      <td>24.4625</td>\n      <td>27.99000</td>\n      <td>30.167</td>\n    </tr>\n    <tr>\n      <th>Nha Trang</th>\n      <td>164.0</td>\n      <td>24.463183</td>\n      <td>1.196856</td>\n      <td>21.353</td>\n      <td>23.74975</td>\n      <td>24.5895</td>\n      <td>25.37450</td>\n      <td>27.350</td>\n    </tr>\n    <tr>\n      <th>Phan Thiet</th>\n      <td>164.0</td>\n      <td>27.909878</td>\n      <td>0.980099</td>\n      <td>25.059</td>\n      <td>27.21000</td>\n      <td>28.0420</td>\n      <td>28.59025</td>\n      <td>30.702</td>\n    </tr>\n    <tr>\n      <th>Plây Cu</th>\n      <td>164.0</td>\n      <td>24.900146</td>\n      <td>1.725193</td>\n      <td>20.627</td>\n      <td>23.75775</td>\n      <td>25.3040</td>\n      <td>26.15425</td>\n      <td>28.328</td>\n    </tr>\n    <tr>\n      <th>Qui Nhon</th>\n      <td>164.0</td>\n      <td>27.448012</td>\n      <td>2.637693</td>\n      <td>22.013</td>\n      <td>25.07700</td>\n      <td>27.4065</td>\n      <td>29.99550</td>\n      <td>31.672</td>\n    </tr>\n    <tr>\n      <th>Rach Gia</th>\n      <td>164.0</td>\n      <td>28.173189</td>\n      <td>0.991095</td>\n      <td>25.334</td>\n      <td>27.57350</td>\n      <td>28.0470</td>\n      <td>28.81575</td>\n      <td>31.036</td>\n    </tr>\n    <tr>\n      <th>Soc Trang</th>\n      <td>164.0</td>\n      <td>27.614067</td>\n      <td>1.110719</td>\n      <td>24.730</td>\n      <td>26.76975</td>\n      <td>27.8875</td>\n      <td>28.46175</td>\n      <td>30.295</td>\n    </tr>\n    <tr>\n      <th>Thanh Hóa</th>\n      <td>164.0</td>\n      <td>23.815378</td>\n      <td>4.446519</td>\n      <td>13.406</td>\n      <td>20.16000</td>\n      <td>24.4625</td>\n      <td>27.99000</td>\n      <td>30.167</td>\n    </tr>\n    <tr>\n      <th>Thái Nguyên</th>\n      <td>164.0</td>\n      <td>22.078000</td>\n      <td>4.989242</td>\n      <td>9.874</td>\n      <td>18.22550</td>\n      <td>23.1725</td>\n      <td>26.91175</td>\n      <td>28.576</td>\n    </tr>\n    <tr>\n      <th>Vinh</th>\n      <td>164.0</td>\n      <td>24.558823</td>\n      <td>4.269019</td>\n      <td>14.492</td>\n      <td>20.87975</td>\n      <td>25.0400</td>\n      <td>28.55175</td>\n      <td>30.748</td>\n    </tr>\n    <tr>\n      <th>Vinh Long</th>\n      <td>164.0</td>\n      <td>28.173189</td>\n      <td>0.991095</td>\n      <td>25.334</td>\n      <td>27.57350</td>\n      <td>28.0470</td>\n      <td>28.81575</td>\n      <td>31.036</td>\n    </tr>\n    <tr>\n      <th>Vung Tau</th>\n      <td>164.0</td>\n      <td>27.909878</td>\n      <td>0.980099</td>\n      <td>25.059</td>\n      <td>27.21000</td>\n      <td>28.0420</td>\n      <td>28.59025</td>\n      <td>30.702</td>\n    </tr>\n    <tr>\n      <th rowspan=\"2\" valign=\"top\">Yemen</th>\n      <th>Aden</th>\n      <td>164.0</td>\n      <td>26.542555</td>\n      <td>2.694647</td>\n      <td>21.225</td>\n      <td>24.37600</td>\n      <td>27.0275</td>\n      <td>28.84025</td>\n      <td>30.871</td>\n    </tr>\n    <tr>\n      <th>Ibb</th>\n      <td>164.0</td>\n      <td>26.968768</td>\n      <td>2.522464</td>\n      <td>21.984</td>\n      <td>24.81775</td>\n      <td>27.2370</td>\n      <td>29.29925</td>\n      <td>30.858</td>\n    </tr>\n    <tr>\n      <th rowspan=\"8\" valign=\"top\">Zambia</th>\n      <th>Chingola</th>\n      <td>164.0</td>\n      <td>21.251067</td>\n      <td>2.109293</td>\n      <td>16.569</td>\n      <td>19.88950</td>\n      <td>21.6240</td>\n      <td>22.80575</td>\n      <td>25.368</td>\n    </tr>\n    <tr>\n      <th>Kabwe</th>\n      <td>164.0</td>\n      <td>21.346927</td>\n      <td>2.400738</td>\n      <td>16.194</td>\n      <td>19.64500</td>\n      <td>21.8605</td>\n      <td>23.05725</td>\n      <td>26.206</td>\n    </tr>\n    <tr>\n      <th>Kitwe</th>\n      <td>164.0</td>\n      <td>21.251067</td>\n      <td>2.109293</td>\n      <td>16.569</td>\n      <td>19.88950</td>\n      <td>21.6240</td>\n      <td>22.80575</td>\n      <td>25.368</td>\n    </tr>\n    <tr>\n      <th>Livingstone</th>\n      <td>164.0</td>\n      <td>23.305506</td>\n      <td>3.327688</td>\n      <td>16.252</td>\n      <td>20.76450</td>\n      <td>24.0210</td>\n      <td>25.84800</td>\n      <td>29.392</td>\n    </tr>\n    <tr>\n      <th>Luanshya</th>\n      <td>164.0</td>\n      <td>21.346927</td>\n      <td>2.400738</td>\n      <td>16.194</td>\n      <td>19.64500</td>\n      <td>21.8605</td>\n      <td>23.05725</td>\n      <td>26.206</td>\n    </tr>\n    <tr>\n      <th>Lusaka</th>\n      <td>164.0</td>\n      <td>20.988030</td>\n      <td>2.668932</td>\n      <td>15.208</td>\n      <td>18.91925</td>\n      <td>21.7265</td>\n      <td>22.94450</td>\n      <td>25.950</td>\n    </tr>\n    <tr>\n      <th>Mufulira</th>\n      <td>164.0</td>\n      <td>21.251067</td>\n      <td>2.109293</td>\n      <td>16.569</td>\n      <td>19.88950</td>\n      <td>21.6240</td>\n      <td>22.80575</td>\n      <td>25.368</td>\n    </tr>\n    <tr>\n      <th>Ndola</th>\n      <td>164.0</td>\n      <td>21.346927</td>\n      <td>2.400738</td>\n      <td>16.194</td>\n      <td>19.64500</td>\n      <td>21.8605</td>\n      <td>23.05725</td>\n      <td>26.206</td>\n    </tr>\n    <tr>\n      <th rowspan=\"7\" valign=\"top\">Zimbabwe</th>\n      <th>Bulawayo</th>\n      <td>164.0</td>\n      <td>20.220012</td>\n      <td>3.116030</td>\n      <td>13.674</td>\n      <td>17.72325</td>\n      <td>21.1105</td>\n      <td>22.71250</td>\n      <td>25.508</td>\n    </tr>\n    <tr>\n      <th>Chitungwiza</th>\n      <td>164.0</td>\n      <td>20.721988</td>\n      <td>2.780533</td>\n      <td>14.623</td>\n      <td>18.57375</td>\n      <td>21.6565</td>\n      <td>22.78100</td>\n      <td>25.224</td>\n    </tr>\n    <tr>\n      <th>Gweru</th>\n      <td>164.0</td>\n      <td>20.220012</td>\n      <td>3.116030</td>\n      <td>13.674</td>\n      <td>17.72325</td>\n      <td>21.1105</td>\n      <td>22.71250</td>\n      <td>25.508</td>\n    </tr>\n    <tr>\n      <th>Harare</th>\n      <td>164.0</td>\n      <td>20.721988</td>\n      <td>2.780533</td>\n      <td>14.623</td>\n      <td>18.57375</td>\n      <td>21.6565</td>\n      <td>22.78100</td>\n      <td>25.224</td>\n    </tr>\n    <tr>\n      <th>Kadoma</th>\n      <td>164.0</td>\n      <td>20.721988</td>\n      <td>2.780533</td>\n      <td>14.623</td>\n      <td>18.57375</td>\n      <td>21.6565</td>\n      <td>22.78100</td>\n      <td>25.224</td>\n    </tr>\n    <tr>\n      <th>Kwekwe</th>\n      <td>164.0</td>\n      <td>20.721988</td>\n      <td>2.780533</td>\n      <td>14.623</td>\n      <td>18.57375</td>\n      <td>21.6565</td>\n      <td>22.78100</td>\n      <td>25.224</td>\n    </tr>\n    <tr>\n      <th>Mutare</th>\n      <td>164.0</td>\n      <td>19.112000</td>\n      <td>2.837385</td>\n      <td>12.838</td>\n      <td>16.69350</td>\n      <td>20.2970</td>\n      <td>21.40100</td>\n      <td>22.927</td>\n    </tr>\n  </tbody>\n</table>\n<p>3490 rows × 8 columns</p>\n</div>"
     },
     "metadata": {},
     "output_type": "execute_result",
     "execution_count": 26
    }
   ],
   "source": [
    "temp_df[temp_df.dt.dt.year >= 2000].groupby([temp_df.Country, temp_df.City])[\"AverageTemperature\"].describe()"
   ],
   "metadata": {
    "collapsed": false,
    "pycharm": {
     "name": "#%%\n",
     "is_executing": false
    }
   }
  },
  {
   "cell_type": "code",
   "execution_count": 27,
   "outputs": [
    {
     "data": {
      "text/plain": "               user_id                           name       nickname  \\\n0           3130604237                     Sebugwaawo    njukihassan   \n1   876033974853931008         Alexander Reitzenstein  AlexReitzenst   \n2  1139443963914534912  Extinction Rebellion Bulgaria     XRBulgaria   \n3   904795229190017024                      Kent Bäck        ocilari   \n4            109275078                   Sven Egenter       segenter   \n\n                                         description        user_location  \\\n0  Professional Counselor ~ Mentor ~ Cultural Koj...               Uganda   \n1  Policy Advisor @E3G & Fellow @DPZ_Berlin | #Cl...  Berlin, Deutschland   \n2                                                                Bulgaria   \n3  🔍Kent Agent 🔎 #Constructivethoughts only. \\n#S...             ~ EARTH    \n4  Runs @cleanenergywire; @klimafakten; climate, ...               Berlin   \n\n   followers_count  tweets_count            user_date  verified  \\\n0              312          1763  2015-03-31 09:37:14     False   \n1              670           858  2017-06-17 11:09:10     False   \n2              194            19  2019-06-14 08:06:25     False   \n3              809          9939  2017-09-04 19:56:07     False   \n4             1280          5086  2010-01-28 14:31:48     False   \n\n              tweet_id                                               text  \\\n0  1164835451884060672  #FridayMotivation #FridayFeeling #FridaysForFu...   \n1  1164835448071393280  Just to highlight: This could be a game change...   \n2  1164835271919095808  Today we are going to protest in front of the ...   \n3  1164834757659598848  #NewDays\\n#oneday\\n\\nOne day!\\n\\nThis is the d...   \n4  1164834415198867456  #Russia even has its own #fridaysforfuture mov...   \n\n   favs  retweets           tweet_date tweet_location               source  \n0     4         2  2019-08-23 09:43:07           None      Twitter Web App  \n1    21         9  2019-08-23 09:43:07           None      Twitter Web App  \n2    43        10  2019-08-23 09:42:25       Bulgaria   Twitter for iPhone  \n3     2         0  2019-08-23 09:40:22           None  Twitter for Android  \n4     4         4  2019-08-23 09:39:00           None            TweetDeck  ",
      "text/html": "<div>\n<style scoped>\n    .dataframe tbody tr th:only-of-type {\n        vertical-align: middle;\n    }\n\n    .dataframe tbody tr th {\n        vertical-align: top;\n    }\n\n    .dataframe thead th {\n        text-align: right;\n    }\n</style>\n<table border=\"1\" class=\"dataframe\">\n  <thead>\n    <tr style=\"text-align: right;\">\n      <th></th>\n      <th>user_id</th>\n      <th>name</th>\n      <th>nickname</th>\n      <th>description</th>\n      <th>user_location</th>\n      <th>followers_count</th>\n      <th>tweets_count</th>\n      <th>user_date</th>\n      <th>verified</th>\n      <th>tweet_id</th>\n      <th>text</th>\n      <th>favs</th>\n      <th>retweets</th>\n      <th>tweet_date</th>\n      <th>tweet_location</th>\n      <th>source</th>\n    </tr>\n  </thead>\n  <tbody>\n    <tr>\n      <th>0</th>\n      <td>3130604237</td>\n      <td>Sebugwaawo</td>\n      <td>njukihassan</td>\n      <td>Professional Counselor ~ Mentor ~ Cultural Koj...</td>\n      <td>Uganda</td>\n      <td>312</td>\n      <td>1763</td>\n      <td>2015-03-31 09:37:14</td>\n      <td>False</td>\n      <td>1164835451884060672</td>\n      <td>#FridayMotivation #FridayFeeling #FridaysForFu...</td>\n      <td>4</td>\n      <td>2</td>\n      <td>2019-08-23 09:43:07</td>\n      <td>None</td>\n      <td>Twitter Web App</td>\n    </tr>\n    <tr>\n      <th>1</th>\n      <td>876033974853931008</td>\n      <td>Alexander Reitzenstein</td>\n      <td>AlexReitzenst</td>\n      <td>Policy Advisor @E3G &amp; Fellow @DPZ_Berlin | #Cl...</td>\n      <td>Berlin, Deutschland</td>\n      <td>670</td>\n      <td>858</td>\n      <td>2017-06-17 11:09:10</td>\n      <td>False</td>\n      <td>1164835448071393280</td>\n      <td>Just to highlight: This could be a game change...</td>\n      <td>21</td>\n      <td>9</td>\n      <td>2019-08-23 09:43:07</td>\n      <td>None</td>\n      <td>Twitter Web App</td>\n    </tr>\n    <tr>\n      <th>2</th>\n      <td>1139443963914534912</td>\n      <td>Extinction Rebellion Bulgaria</td>\n      <td>XRBulgaria</td>\n      <td></td>\n      <td>Bulgaria</td>\n      <td>194</td>\n      <td>19</td>\n      <td>2019-06-14 08:06:25</td>\n      <td>False</td>\n      <td>1164835271919095808</td>\n      <td>Today we are going to protest in front of the ...</td>\n      <td>43</td>\n      <td>10</td>\n      <td>2019-08-23 09:42:25</td>\n      <td>Bulgaria</td>\n      <td>Twitter for iPhone</td>\n    </tr>\n    <tr>\n      <th>3</th>\n      <td>904795229190017024</td>\n      <td>Kent Bäck</td>\n      <td>ocilari</td>\n      <td>🔍Kent Agent 🔎 #Constructivethoughts only. \\n#S...</td>\n      <td>~ EARTH</td>\n      <td>809</td>\n      <td>9939</td>\n      <td>2017-09-04 19:56:07</td>\n      <td>False</td>\n      <td>1164834757659598848</td>\n      <td>#NewDays\\n#oneday\\n\\nOne day!\\n\\nThis is the d...</td>\n      <td>2</td>\n      <td>0</td>\n      <td>2019-08-23 09:40:22</td>\n      <td>None</td>\n      <td>Twitter for Android</td>\n    </tr>\n    <tr>\n      <th>4</th>\n      <td>109275078</td>\n      <td>Sven Egenter</td>\n      <td>segenter</td>\n      <td>Runs @cleanenergywire; @klimafakten; climate, ...</td>\n      <td>Berlin</td>\n      <td>1280</td>\n      <td>5086</td>\n      <td>2010-01-28 14:31:48</td>\n      <td>False</td>\n      <td>1164834415198867456</td>\n      <td>#Russia even has its own #fridaysforfuture mov...</td>\n      <td>4</td>\n      <td>4</td>\n      <td>2019-08-23 09:39:00</td>\n      <td>None</td>\n      <td>TweetDeck</td>\n    </tr>\n  </tbody>\n</table>\n</div>"
     },
     "metadata": {},
     "output_type": "execute_result",
     "execution_count": 27
    }
   ],
   "source": [
    "tweet_df.head()"
   ],
   "metadata": {
    "collapsed": false,
    "pycharm": {
     "name": "#%%\n",
     "is_executing": false
    }
   }
  },
  {
   "cell_type": "markdown",
   "source": [
    "User information of verified users"
   ],
   "metadata": {
    "collapsed": false,
    "pycharm": {
     "name": "#%% md\n"
    }
   }
  },
  {
   "cell_type": "code",
   "execution_count": 28,
   "outputs": [
    {
     "data": {
      "text/plain": "             nickname                             name  \\\n116      AkashvaniAIR                  ALL INDIA RADIO   \n359        Emma_Gregg                       Emma Gregg   \n410       mattgrocoff                     Matt Grocoff   \n411          Raffi_RC                  Raffi Cavoukian   \n414          Raffi_RC                  Raffi Cavoukian   \n501            UWC_IO                UWC International   \n535      CleanAirMoms             Moms Clean Air Force   \n563      Fisher_DanaR                    Dana R Fisher   \n618    dw_environment    DW Global Ideas & Environment   \n637       Geeta_Mohan  Geeta Mohan گیتا موہن गीता मोहन   \n699        Greenpeace                       Greenpeace   \n715       TRF_Stories  Thomson Reuters Foundation News   \n716       TRF_Climate                      TRF Climate   \n739       TRF_Climate                      TRF Climate   \n740       TRF_Stories  Thomson Reuters Foundation News   \n752        NatureNews            Nature News & Comment   \n759     climatemorgan                  Jennifer Morgan   \n761       TRF_Stories  Thomson Reuters Foundation News   \n765      unfoundation                    UN Foundation   \n766      unfoundation                    UN Foundation   \n769          Raffi_RC                  Raffi Cavoukian   \n771          Raffi_RC                  Raffi Cavoukian   \n772              1010             10:10 Climate Action   \n773      LotteLeicht1                     Lotte Leicht   \n785     GretaThunberg                   Greta Thunberg   \n789    dw_environment    DW Global Ideas & Environment   \n822      CleanAirMoms             Moms Clean Air Force   \n829      BeeGoldsmith                Belinda Goldsmith   \n838       TRF_Stories  Thomson Reuters Foundation News   \n842              FYEG                             FYEG   \n858       TRF_Climate                      TRF Climate   \n864       TRF_Stories  Thomson Reuters Foundation News   \n871       TRF_Climate                      TRF Climate   \n893       brynnobrien                    Brynn O'Brien   \n894          Raffi_RC                  Raffi Cavoukian   \n952      press4change                   Jeff Ballinger   \n954      CleanAirMoms             Moms Clean Air Force   \n985    TheWebbyAwards                 The Webby Awards   \n991   citizensclimate             CitizensClimateLobby   \n1002        Nwankpa_A                    Amara Nwankpa   \n1008              350                      350 dot org   \n1056        gulftoday                       Gulf Today   \n1140    officialtobin                       Tobin Bell   \n1153     CleanAirMoms             Moms Clean Air Force   \n\n                                            description  \\\n116   Official Account of All India Radio, \\nIndia's...   \n359   Travel journalist, editor, writer, photographe...   \n410   Called the 'Zero Energy Master'. Thrive Collab...   \n411   Troubadour. writer. children's champion. ecolo...   \n414   Troubadour. writer. children's champion. ecolo...   \n501   UWC makes education a force to unite people, n...   \n535   We're a community of moms and dads who are uni...   \n563   Democracy: activism-protest-climate-the enviro...   \n618   Reporting on solutions to the #climatecrisis, ...   \n637   Foreign Affairs Editor, @IndiaToday, TV Today ...   \n699   Greenpeace exists because this fragile Earth d...   \n715   We cover under-reported news from around the w...   \n716   News on the human impacts of climate change fr...   \n739   News on the human impacts of climate change fr...   \n740   We cover under-reported news from around the w...   \n752   Science news & opinion from the news team at N...   \n759   Executive Director of Greenpeace International...   \n761   We cover under-reported news from around the w...   \n765   Connecting people, ideas and resources with th...   \n766   Connecting people, ideas and resources with th...   \n769   Troubadour. writer. children's champion. ecolo...   \n771   Troubadour. writer. children's champion. ecolo...   \n772   We're a charity that brings people together to...   \n773   EU Director, Human Rights Watch. Tweets about ...   \n785          16 year old climate activist with Asperger   \n789   Reporting on solutions to the #climatecrisis, ...   \n822   We're a community of moms and dads who are uni...   \n829   Editor-in-Chief Thomson Reuters Foundation. Ju...   \n838   We cover under-reported news from around the w...   \n842   Federation of Young European Greens. Fighting ...   \n858   News on the human impacts of climate change fr...   \n864   We cover under-reported news from around the w...   \n871   News on the human impacts of climate change fr...   \n893   Wrangler of companies and waves. Executive Dir...   \n894   Troubadour. writer. children's champion. ecolo...   \n952   Curating #restitution & global wrkr rights. Mo...   \n954   We're a community of moms and dads who are uni...   \n985   👾Honoring the best of the Internet, since 1996...   \n991   CCL is a nonpartisan, nonprofit, grassroots or...   \n1002  Director, Public Policy Initiative @SMYFoundat...   \n1008  Join a global movement that's inspiring the wo...   \n1056  Keeping you informed on news and opinions from...   \n1140  Actor, writer, producer with a Masters  Degree...   \n1153  We're a community of moms and dads who are uni...   \n\n                           user_location                source  \n116                                India    Twitter Web Client  \n359                                   UK       Twitter Web App  \n410                 Ann Arbor, MI, Earth       Twitter Web App  \n411                               Canada    Twitter for iPhone  \n414                               Canada    Twitter for iPhone  \n501                            Worldwide       Twitter Web App  \n535                        United States   Twitter for Android  \n563                        Maryland, USA   Twitter for Android  \n618                      Berlin, Germany  Twitter Ads Composer  \n637                     New Delhi, India   Twitter for Android  \n699                               Global        Hootsuite Inc.  \n715                               Global  Twitter Media Studio  \n716                               London  Twitter Media Studio  \n739                               London  Twitter Media Studio  \n740                               Global  Twitter Media Studio  \n752                            Worldwide       Twitter Web App  \n759           Amsterdam, The Netherlands       Twitter Web App  \n761                               Global             TweetDeck  \n765                       Washington, DC       Twitter Web App  \n766                       Washington, DC       Twitter Web App  \n769                               Canada    Twitter for iPhone  \n771                               Canada    Twitter for iPhone  \n772                                   UK             TweetDeck  \n773                    Brussels, Belgium       Twitter Web App  \n785                              Sverige    Twitter for iPhone  \n789                      Berlin, Germany       Twitter Web App  \n822                        United States        Hootsuite Inc.  \n829                           London, UK    Twitter Web Client  \n838                               Global             TweetDeck  \n842                               Europe       Twitter Web App  \n858                               London             TweetDeck  \n864                               Global             TweetDeck  \n871                               London       Twitter Web App  \n893   Australia, mostly on Gadigal land.    Twitter for iPhone  \n894                               Canada    Twitter for iPhone  \n952                    Andover, MA - USA       Twitter Web App  \n954                        United States   Twitter for Android  \n985                         The Internet    Twitter for iPhone  \n991                           Nationwide        Hootsuite Inc.  \n1002                               Abuja   Twitter for Android  \n1008                          Everywhere       Twitter Web App  \n1056                        UAE, Sharjah       Twitter Web App  \n1140              New York & Los Angeles    Twitter Web Client  \n1153                       United States   Twitter for Android  ",
      "text/html": "<div>\n<style scoped>\n    .dataframe tbody tr th:only-of-type {\n        vertical-align: middle;\n    }\n\n    .dataframe tbody tr th {\n        vertical-align: top;\n    }\n\n    .dataframe thead th {\n        text-align: right;\n    }\n</style>\n<table border=\"1\" class=\"dataframe\">\n  <thead>\n    <tr style=\"text-align: right;\">\n      <th></th>\n      <th>nickname</th>\n      <th>name</th>\n      <th>description</th>\n      <th>user_location</th>\n      <th>source</th>\n    </tr>\n  </thead>\n  <tbody>\n    <tr>\n      <th>116</th>\n      <td>AkashvaniAIR</td>\n      <td>ALL INDIA RADIO</td>\n      <td>Official Account of All India Radio, \\nIndia's...</td>\n      <td>India</td>\n      <td>Twitter Web Client</td>\n    </tr>\n    <tr>\n      <th>359</th>\n      <td>Emma_Gregg</td>\n      <td>Emma Gregg</td>\n      <td>Travel journalist, editor, writer, photographe...</td>\n      <td>UK</td>\n      <td>Twitter Web App</td>\n    </tr>\n    <tr>\n      <th>410</th>\n      <td>mattgrocoff</td>\n      <td>Matt Grocoff</td>\n      <td>Called the 'Zero Energy Master'. Thrive Collab...</td>\n      <td>Ann Arbor, MI, Earth</td>\n      <td>Twitter Web App</td>\n    </tr>\n    <tr>\n      <th>411</th>\n      <td>Raffi_RC</td>\n      <td>Raffi Cavoukian</td>\n      <td>Troubadour. writer. children's champion. ecolo...</td>\n      <td>Canada</td>\n      <td>Twitter for iPhone</td>\n    </tr>\n    <tr>\n      <th>414</th>\n      <td>Raffi_RC</td>\n      <td>Raffi Cavoukian</td>\n      <td>Troubadour. writer. children's champion. ecolo...</td>\n      <td>Canada</td>\n      <td>Twitter for iPhone</td>\n    </tr>\n    <tr>\n      <th>501</th>\n      <td>UWC_IO</td>\n      <td>UWC International</td>\n      <td>UWC makes education a force to unite people, n...</td>\n      <td>Worldwide</td>\n      <td>Twitter Web App</td>\n    </tr>\n    <tr>\n      <th>535</th>\n      <td>CleanAirMoms</td>\n      <td>Moms Clean Air Force</td>\n      <td>We're a community of moms and dads who are uni...</td>\n      <td>United States</td>\n      <td>Twitter for Android</td>\n    </tr>\n    <tr>\n      <th>563</th>\n      <td>Fisher_DanaR</td>\n      <td>Dana R Fisher</td>\n      <td>Democracy: activism-protest-climate-the enviro...</td>\n      <td>Maryland, USA</td>\n      <td>Twitter for Android</td>\n    </tr>\n    <tr>\n      <th>618</th>\n      <td>dw_environment</td>\n      <td>DW Global Ideas &amp; Environment</td>\n      <td>Reporting on solutions to the #climatecrisis, ...</td>\n      <td>Berlin, Germany</td>\n      <td>Twitter Ads Composer</td>\n    </tr>\n    <tr>\n      <th>637</th>\n      <td>Geeta_Mohan</td>\n      <td>Geeta Mohan گیتا موہن गीता मोहन</td>\n      <td>Foreign Affairs Editor, @IndiaToday, TV Today ...</td>\n      <td>New Delhi, India</td>\n      <td>Twitter for Android</td>\n    </tr>\n    <tr>\n      <th>699</th>\n      <td>Greenpeace</td>\n      <td>Greenpeace</td>\n      <td>Greenpeace exists because this fragile Earth d...</td>\n      <td>Global</td>\n      <td>Hootsuite Inc.</td>\n    </tr>\n    <tr>\n      <th>715</th>\n      <td>TRF_Stories</td>\n      <td>Thomson Reuters Foundation News</td>\n      <td>We cover under-reported news from around the w...</td>\n      <td>Global</td>\n      <td>Twitter Media Studio</td>\n    </tr>\n    <tr>\n      <th>716</th>\n      <td>TRF_Climate</td>\n      <td>TRF Climate</td>\n      <td>News on the human impacts of climate change fr...</td>\n      <td>London</td>\n      <td>Twitter Media Studio</td>\n    </tr>\n    <tr>\n      <th>739</th>\n      <td>TRF_Climate</td>\n      <td>TRF Climate</td>\n      <td>News on the human impacts of climate change fr...</td>\n      <td>London</td>\n      <td>Twitter Media Studio</td>\n    </tr>\n    <tr>\n      <th>740</th>\n      <td>TRF_Stories</td>\n      <td>Thomson Reuters Foundation News</td>\n      <td>We cover under-reported news from around the w...</td>\n      <td>Global</td>\n      <td>Twitter Media Studio</td>\n    </tr>\n    <tr>\n      <th>752</th>\n      <td>NatureNews</td>\n      <td>Nature News &amp; Comment</td>\n      <td>Science news &amp; opinion from the news team at N...</td>\n      <td>Worldwide</td>\n      <td>Twitter Web App</td>\n    </tr>\n    <tr>\n      <th>759</th>\n      <td>climatemorgan</td>\n      <td>Jennifer Morgan</td>\n      <td>Executive Director of Greenpeace International...</td>\n      <td>Amsterdam, The Netherlands</td>\n      <td>Twitter Web App</td>\n    </tr>\n    <tr>\n      <th>761</th>\n      <td>TRF_Stories</td>\n      <td>Thomson Reuters Foundation News</td>\n      <td>We cover under-reported news from around the w...</td>\n      <td>Global</td>\n      <td>TweetDeck</td>\n    </tr>\n    <tr>\n      <th>765</th>\n      <td>unfoundation</td>\n      <td>UN Foundation</td>\n      <td>Connecting people, ideas and resources with th...</td>\n      <td>Washington, DC</td>\n      <td>Twitter Web App</td>\n    </tr>\n    <tr>\n      <th>766</th>\n      <td>unfoundation</td>\n      <td>UN Foundation</td>\n      <td>Connecting people, ideas and resources with th...</td>\n      <td>Washington, DC</td>\n      <td>Twitter Web App</td>\n    </tr>\n    <tr>\n      <th>769</th>\n      <td>Raffi_RC</td>\n      <td>Raffi Cavoukian</td>\n      <td>Troubadour. writer. children's champion. ecolo...</td>\n      <td>Canada</td>\n      <td>Twitter for iPhone</td>\n    </tr>\n    <tr>\n      <th>771</th>\n      <td>Raffi_RC</td>\n      <td>Raffi Cavoukian</td>\n      <td>Troubadour. writer. children's champion. ecolo...</td>\n      <td>Canada</td>\n      <td>Twitter for iPhone</td>\n    </tr>\n    <tr>\n      <th>772</th>\n      <td>1010</td>\n      <td>10:10 Climate Action</td>\n      <td>We're a charity that brings people together to...</td>\n      <td>UK</td>\n      <td>TweetDeck</td>\n    </tr>\n    <tr>\n      <th>773</th>\n      <td>LotteLeicht1</td>\n      <td>Lotte Leicht</td>\n      <td>EU Director, Human Rights Watch. Tweets about ...</td>\n      <td>Brussels, Belgium</td>\n      <td>Twitter Web App</td>\n    </tr>\n    <tr>\n      <th>785</th>\n      <td>GretaThunberg</td>\n      <td>Greta Thunberg</td>\n      <td>16 year old climate activist with Asperger</td>\n      <td>Sverige</td>\n      <td>Twitter for iPhone</td>\n    </tr>\n    <tr>\n      <th>789</th>\n      <td>dw_environment</td>\n      <td>DW Global Ideas &amp; Environment</td>\n      <td>Reporting on solutions to the #climatecrisis, ...</td>\n      <td>Berlin, Germany</td>\n      <td>Twitter Web App</td>\n    </tr>\n    <tr>\n      <th>822</th>\n      <td>CleanAirMoms</td>\n      <td>Moms Clean Air Force</td>\n      <td>We're a community of moms and dads who are uni...</td>\n      <td>United States</td>\n      <td>Hootsuite Inc.</td>\n    </tr>\n    <tr>\n      <th>829</th>\n      <td>BeeGoldsmith</td>\n      <td>Belinda Goldsmith</td>\n      <td>Editor-in-Chief Thomson Reuters Foundation. Ju...</td>\n      <td>London, UK</td>\n      <td>Twitter Web Client</td>\n    </tr>\n    <tr>\n      <th>838</th>\n      <td>TRF_Stories</td>\n      <td>Thomson Reuters Foundation News</td>\n      <td>We cover under-reported news from around the w...</td>\n      <td>Global</td>\n      <td>TweetDeck</td>\n    </tr>\n    <tr>\n      <th>842</th>\n      <td>FYEG</td>\n      <td>FYEG</td>\n      <td>Federation of Young European Greens. Fighting ...</td>\n      <td>Europe</td>\n      <td>Twitter Web App</td>\n    </tr>\n    <tr>\n      <th>858</th>\n      <td>TRF_Climate</td>\n      <td>TRF Climate</td>\n      <td>News on the human impacts of climate change fr...</td>\n      <td>London</td>\n      <td>TweetDeck</td>\n    </tr>\n    <tr>\n      <th>864</th>\n      <td>TRF_Stories</td>\n      <td>Thomson Reuters Foundation News</td>\n      <td>We cover under-reported news from around the w...</td>\n      <td>Global</td>\n      <td>TweetDeck</td>\n    </tr>\n    <tr>\n      <th>871</th>\n      <td>TRF_Climate</td>\n      <td>TRF Climate</td>\n      <td>News on the human impacts of climate change fr...</td>\n      <td>London</td>\n      <td>Twitter Web App</td>\n    </tr>\n    <tr>\n      <th>893</th>\n      <td>brynnobrien</td>\n      <td>Brynn O'Brien</td>\n      <td>Wrangler of companies and waves. Executive Dir...</td>\n      <td>Australia, mostly on Gadigal land.</td>\n      <td>Twitter for iPhone</td>\n    </tr>\n    <tr>\n      <th>894</th>\n      <td>Raffi_RC</td>\n      <td>Raffi Cavoukian</td>\n      <td>Troubadour. writer. children's champion. ecolo...</td>\n      <td>Canada</td>\n      <td>Twitter for iPhone</td>\n    </tr>\n    <tr>\n      <th>952</th>\n      <td>press4change</td>\n      <td>Jeff Ballinger</td>\n      <td>Curating #restitution &amp; global wrkr rights. Mo...</td>\n      <td>Andover, MA - USA</td>\n      <td>Twitter Web App</td>\n    </tr>\n    <tr>\n      <th>954</th>\n      <td>CleanAirMoms</td>\n      <td>Moms Clean Air Force</td>\n      <td>We're a community of moms and dads who are uni...</td>\n      <td>United States</td>\n      <td>Twitter for Android</td>\n    </tr>\n    <tr>\n      <th>985</th>\n      <td>TheWebbyAwards</td>\n      <td>The Webby Awards</td>\n      <td>👾Honoring the best of the Internet, since 1996...</td>\n      <td>The Internet</td>\n      <td>Twitter for iPhone</td>\n    </tr>\n    <tr>\n      <th>991</th>\n      <td>citizensclimate</td>\n      <td>CitizensClimateLobby</td>\n      <td>CCL is a nonpartisan, nonprofit, grassroots or...</td>\n      <td>Nationwide</td>\n      <td>Hootsuite Inc.</td>\n    </tr>\n    <tr>\n      <th>1002</th>\n      <td>Nwankpa_A</td>\n      <td>Amara Nwankpa</td>\n      <td>Director, Public Policy Initiative @SMYFoundat...</td>\n      <td>Abuja</td>\n      <td>Twitter for Android</td>\n    </tr>\n    <tr>\n      <th>1008</th>\n      <td>350</td>\n      <td>350 dot org</td>\n      <td>Join a global movement that's inspiring the wo...</td>\n      <td>Everywhere</td>\n      <td>Twitter Web App</td>\n    </tr>\n    <tr>\n      <th>1056</th>\n      <td>gulftoday</td>\n      <td>Gulf Today</td>\n      <td>Keeping you informed on news and opinions from...</td>\n      <td>UAE, Sharjah</td>\n      <td>Twitter Web App</td>\n    </tr>\n    <tr>\n      <th>1140</th>\n      <td>officialtobin</td>\n      <td>Tobin Bell</td>\n      <td>Actor, writer, producer with a Masters  Degree...</td>\n      <td>New York &amp; Los Angeles</td>\n      <td>Twitter Web Client</td>\n    </tr>\n    <tr>\n      <th>1153</th>\n      <td>CleanAirMoms</td>\n      <td>Moms Clean Air Force</td>\n      <td>We're a community of moms and dads who are uni...</td>\n      <td>United States</td>\n      <td>Twitter for Android</td>\n    </tr>\n  </tbody>\n</table>\n</div>"
     },
     "metadata": {},
     "output_type": "execute_result",
     "execution_count": 28
    }
   ],
   "source": [
    "tweet_df.loc[(tweet_df[\"verified\"] == True), [\"nickname\", \"name\", \"description\", \"user_location\", \"source\"]]"
   ],
   "metadata": {
    "collapsed": false,
    "pycharm": {
     "name": "#%%\n",
     "is_executing": false
    }
   }
  },
  {
   "cell_type": "markdown",
   "source": [
    "### Save and upload data to S3"
   ],
   "metadata": {
    "collapsed": false,
    "pycharm": {
     "name": "#%% md\n"
    }
   }
  },
  {
   "cell_type": "code",
   "execution_count": 24,
   "outputs": [],
   "source": [
    "temp_df.to_csv(data_path.joinpath(\"temp_by_city_clean.csv\"))"
   ],
   "metadata": {
    "collapsed": false,
    "pycharm": {
     "name": "#%%\n",
     "is_executing": false
    }
   }
  },
  {
   "cell_type": "code",
   "execution_count": null,
   "outputs": [],
   "source": [
    "files = [\"world_happiness_2017.csv\", \"temp_by_city_clean.csv\"]\n",
    "\n",
    "for file in files:\n",
    "    s3.upload_file(str(data_path.joinpath(file)), config.get(\"kinesis\", \"delivery_stream\"), file)\n"
   ],
   "metadata": {
    "collapsed": false,
    "pycharm": {
     "name": "#%%\n",
     "is_executing": true
    }
   }
  }
 ],
 "metadata": {
  "language_info": {
   "codemirror_mode": {
    "name": "ipython",
    "version": 2
   },
   "file_extension": ".py",
   "mimetype": "text/x-python",
   "name": "python",
   "nbconvert_exporter": "python",
   "pygments_lexer": "ipython2",
   "version": "2.7.6"
  },
  "kernelspec": {
   "name": "python3",
   "language": "python",
   "display_name": "Python 3"
  },
  "pycharm": {
   "stem_cell": {
    "cell_type": "raw",
    "source": [],
    "metadata": {
     "collapsed": false
    }
   }
  }
 },
 "nbformat": 4,
 "nbformat_minor": 0
}