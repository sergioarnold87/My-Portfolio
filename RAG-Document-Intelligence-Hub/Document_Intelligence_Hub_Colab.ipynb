{
  "cells": [
    {
      "cell_type": "markdown",
      "metadata": {},
      "source": ["# 🧠 Document Intelligence Hub - Portfolio Demo\n## Advanced RAG System with Prompt Engineering\n\n**By:** Your Name | **Tech:** Python, LangChain, OpenAI, RAG\n\n---"]
    }
  ],
  "metadata": {
    "colab": {"provenance": []},
    "kernelspec": {"name": "python3", "display_name": "Python 3"}
  },
  "nbformat": 4,
  "nbformat_minor": 0
}
